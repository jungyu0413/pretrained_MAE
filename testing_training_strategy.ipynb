{
 "cells": [
  {
   "cell_type": "code",
   "execution_count": 1,
   "metadata": {},
   "outputs": [],
   "source": [
    "from pathlib import Path\n",
    "import os\n",
    "import shutil\n",
    "import glob\n",
    "import cv2\n",
    "import numpy as np\n",
    "import pandas as pd"
   ]
  },
  {
   "cell_type": "code",
   "execution_count": 2,
   "metadata": {},
   "outputs": [],
   "source": [
    "train = pd.read_csv('/workspace/dataset/aff-wild_csv/train.csv')"
   ]
  },
  {
   "cell_type": "code",
   "execution_count": 3,
   "metadata": {},
   "outputs": [
    {
     "data": {
      "text/plain": [
       "'/workspace/dataset/aff-wild/110-30-270x480/00001.jpg'"
      ]
     },
     "execution_count": 3,
     "metadata": {},
     "output_type": "execute_result"
    }
   ],
   "source": [
    "train['image_path'][0]"
   ]
  },
  {
   "cell_type": "code",
   "execution_count": 4,
   "metadata": {},
   "outputs": [],
   "source": [
    "train['name'] = train['image_path'].map(lambda x : x.split('/')[-2])"
   ]
  },
  {
   "cell_type": "code",
   "execution_count": 5,
   "metadata": {},
   "outputs": [],
   "source": [
    "train['label'] = train['label'].astype(str)"
   ]
  },
  {
   "cell_type": "code",
   "execution_count": 6,
   "metadata": {},
   "outputs": [],
   "source": [
    "train['du'] = train['name'] + \"_\" + train['label']"
   ]
  },
  {
   "cell_type": "code",
   "execution_count": 7,
   "metadata": {},
   "outputs": [
    {
     "data": {
      "text/plain": [
       "248"
      ]
     },
     "execution_count": 7,
     "metadata": {},
     "output_type": "execute_result"
    }
   ],
   "source": [
    "len(train['name'].unique())"
   ]
  },
  {
   "cell_type": "code",
   "execution_count": 8,
   "metadata": {},
   "outputs": [
    {
     "data": {
      "text/plain": [
       "1089929"
      ]
     },
     "execution_count": 8,
     "metadata": {},
     "output_type": "execute_result"
    }
   ],
   "source": [
    "len(train)"
   ]
  },
  {
   "cell_type": "code",
   "execution_count": 9,
   "metadata": {},
   "outputs": [
    {
     "data": {
      "text/plain": [
       "array(['0', '-1', '4', '5'], dtype=object)"
      ]
     },
     "execution_count": 9,
     "metadata": {},
     "output_type": "execute_result"
    }
   ],
   "source": [
    "train[train['name'] == '5-60-1920x1080-2'].label.unique()"
   ]
  },
  {
   "cell_type": "code",
   "execution_count": 10,
   "metadata": {},
   "outputs": [],
   "source": [
    "train_du = train.drop_duplicates('du')"
   ]
  },
  {
   "cell_type": "code",
   "execution_count": 11,
   "metadata": {},
   "outputs": [
    {
     "data": {
      "text/plain": [
       "436807     0\n",
       "436847    -1\n",
       "438590     4\n",
       "441232     5\n",
       "Name: label, dtype: object"
      ]
     },
     "execution_count": 11,
     "metadata": {},
     "output_type": "execute_result"
    }
   ],
   "source": [
    "train_du[train_du['name'] == '5-60-1920x1080-2'].label"
   ]
  },
  {
   "cell_type": "code",
   "execution_count": 12,
   "metadata": {},
   "outputs": [],
   "source": [
    "num_train = train_du.groupby('name').count().label.reset_index()"
   ]
  },
  {
   "cell_type": "code",
   "execution_count": 13,
   "metadata": {},
   "outputs": [],
   "source": [
    "import matplotlib.pyplot as plt"
   ]
  },
  {
   "cell_type": "code",
   "execution_count": 14,
   "metadata": {},
   "outputs": [
    {
     "data": {
      "text/html": [
       "<div>\n",
       "<style scoped>\n",
       "    .dataframe tbody tr th:only-of-type {\n",
       "        vertical-align: middle;\n",
       "    }\n",
       "\n",
       "    .dataframe tbody tr th {\n",
       "        vertical-align: top;\n",
       "    }\n",
       "\n",
       "    .dataframe thead th {\n",
       "        text-align: right;\n",
       "    }\n",
       "</style>\n",
       "<table border=\"1\" class=\"dataframe\">\n",
       "  <thead>\n",
       "    <tr style=\"text-align: right;\">\n",
       "      <th></th>\n",
       "      <th>name</th>\n",
       "      <th>label</th>\n",
       "    </tr>\n",
       "  </thead>\n",
       "  <tbody>\n",
       "    <tr>\n",
       "      <th>0</th>\n",
       "      <td>1-30-1280x720</td>\n",
       "      <td>3</td>\n",
       "    </tr>\n",
       "    <tr>\n",
       "      <th>1</th>\n",
       "      <td>10-60-1280x720</td>\n",
       "      <td>4</td>\n",
       "    </tr>\n",
       "    <tr>\n",
       "      <th>2</th>\n",
       "      <td>10-60-1280x720_right</td>\n",
       "      <td>3</td>\n",
       "    </tr>\n",
       "    <tr>\n",
       "      <th>3</th>\n",
       "      <td>100-29-1080x1920</td>\n",
       "      <td>3</td>\n",
       "    </tr>\n",
       "    <tr>\n",
       "      <th>4</th>\n",
       "      <td>101-30-1080x1920</td>\n",
       "      <td>3</td>\n",
       "    </tr>\n",
       "    <tr>\n",
       "      <th>...</th>\n",
       "      <td>...</td>\n",
       "      <td>...</td>\n",
       "    </tr>\n",
       "    <tr>\n",
       "      <th>243</th>\n",
       "      <td>video72</td>\n",
       "      <td>3</td>\n",
       "    </tr>\n",
       "    <tr>\n",
       "      <th>244</th>\n",
       "      <td>video79</td>\n",
       "      <td>4</td>\n",
       "    </tr>\n",
       "    <tr>\n",
       "      <th>245</th>\n",
       "      <td>video8</td>\n",
       "      <td>3</td>\n",
       "    </tr>\n",
       "    <tr>\n",
       "      <th>246</th>\n",
       "      <td>video93</td>\n",
       "      <td>3</td>\n",
       "    </tr>\n",
       "    <tr>\n",
       "      <th>247</th>\n",
       "      <td>video94</td>\n",
       "      <td>2</td>\n",
       "    </tr>\n",
       "  </tbody>\n",
       "</table>\n",
       "<p>248 rows × 2 columns</p>\n",
       "</div>"
      ],
      "text/plain": [
       "                     name  label\n",
       "0           1-30-1280x720      3\n",
       "1          10-60-1280x720      4\n",
       "2    10-60-1280x720_right      3\n",
       "3        100-29-1080x1920      3\n",
       "4        101-30-1080x1920      3\n",
       "..                    ...    ...\n",
       "243               video72      3\n",
       "244               video79      4\n",
       "245                video8      3\n",
       "246               video93      3\n",
       "247               video94      2\n",
       "\n",
       "[248 rows x 2 columns]"
      ]
     },
     "execution_count": 14,
     "metadata": {},
     "output_type": "execute_result"
    }
   ],
   "source": [
    "num_train"
   ]
  },
  {
   "cell_type": "code",
   "execution_count": 15,
   "metadata": {},
   "outputs": [],
   "source": [
    "x_index = num_train.label.unique()"
   ]
  },
  {
   "cell_type": "code",
   "execution_count": 16,
   "metadata": {},
   "outputs": [
    {
     "data": {
      "text/plain": [
       "3    81\n",
       "4    61\n",
       "2    46\n",
       "5    38\n",
       "6    11\n",
       "1     6\n",
       "7     3\n",
       "8     2\n",
       "Name: label, dtype: int64"
      ]
     },
     "execution_count": 16,
     "metadata": {},
     "output_type": "execute_result"
    }
   ],
   "source": [
    "num_train['label'].value_counts()"
   ]
  },
  {
   "cell_type": "code",
   "execution_count": 17,
   "metadata": {},
   "outputs": [],
   "source": [
    "bar_train = num_train.label.value_counts().reset_index()"
   ]
  },
  {
   "cell_type": "code",
   "execution_count": 18,
   "metadata": {},
   "outputs": [
    {
     "data": {
      "text/html": [
       "<div>\n",
       "<style scoped>\n",
       "    .dataframe tbody tr th:only-of-type {\n",
       "        vertical-align: middle;\n",
       "    }\n",
       "\n",
       "    .dataframe tbody tr th {\n",
       "        vertical-align: top;\n",
       "    }\n",
       "\n",
       "    .dataframe thead th {\n",
       "        text-align: right;\n",
       "    }\n",
       "</style>\n",
       "<table border=\"1\" class=\"dataframe\">\n",
       "  <thead>\n",
       "    <tr style=\"text-align: right;\">\n",
       "      <th></th>\n",
       "      <th>index</th>\n",
       "      <th>label</th>\n",
       "    </tr>\n",
       "  </thead>\n",
       "  <tbody>\n",
       "    <tr>\n",
       "      <th>0</th>\n",
       "      <td>3</td>\n",
       "      <td>81</td>\n",
       "    </tr>\n",
       "    <tr>\n",
       "      <th>1</th>\n",
       "      <td>4</td>\n",
       "      <td>61</td>\n",
       "    </tr>\n",
       "    <tr>\n",
       "      <th>2</th>\n",
       "      <td>2</td>\n",
       "      <td>46</td>\n",
       "    </tr>\n",
       "    <tr>\n",
       "      <th>3</th>\n",
       "      <td>5</td>\n",
       "      <td>38</td>\n",
       "    </tr>\n",
       "    <tr>\n",
       "      <th>4</th>\n",
       "      <td>6</td>\n",
       "      <td>11</td>\n",
       "    </tr>\n",
       "    <tr>\n",
       "      <th>5</th>\n",
       "      <td>1</td>\n",
       "      <td>6</td>\n",
       "    </tr>\n",
       "    <tr>\n",
       "      <th>6</th>\n",
       "      <td>7</td>\n",
       "      <td>3</td>\n",
       "    </tr>\n",
       "    <tr>\n",
       "      <th>7</th>\n",
       "      <td>8</td>\n",
       "      <td>2</td>\n",
       "    </tr>\n",
       "  </tbody>\n",
       "</table>\n",
       "</div>"
      ],
      "text/plain": [
       "   index  label\n",
       "0      3     81\n",
       "1      4     61\n",
       "2      2     46\n",
       "3      5     38\n",
       "4      6     11\n",
       "5      1      6\n",
       "6      7      3\n",
       "7      8      2"
      ]
     },
     "execution_count": 18,
     "metadata": {},
     "output_type": "execute_result"
    }
   ],
   "source": [
    "bar_train"
   ]
  },
  {
   "cell_type": "code",
   "execution_count": 19,
   "metadata": {},
   "outputs": [
    {
     "data": {
      "text/plain": [
       "array([3, 4, 2, 5, 1, 6, 7, 8])"
      ]
     },
     "execution_count": 19,
     "metadata": {},
     "output_type": "execute_result"
    }
   ],
   "source": [
    "x_index"
   ]
  },
  {
   "cell_type": "code",
   "execution_count": 20,
   "metadata": {},
   "outputs": [
    {
     "data": {
      "image/png": "[encoded data removed]",
      "text/plain": [
       "<Figure size 432x288 with 1 Axes>"
      ]
     },
     "metadata": {
      "needs_background": "light"
     },
     "output_type": "display_data"
    }
   ],
   "source": [
    "plt.bar(bar_train['index'],bar_train['label'])\n",
    "plt.xticks(bar_train['index'], x_index)\n",
    "plt.show()"
   ]
  },
  {
   "cell_type": "code",
   "execution_count": 23,
   "metadata": {},
   "outputs": [
    {
     "data": {
      "text/html": [
       "<div>\n",
       "<style scoped>\n",
       "    .dataframe tbody tr th:only-of-type {\n",
       "        vertical-align: middle;\n",
       "    }\n",
       "\n",
       "    .dataframe tbody tr th {\n",
       "        vertical-align: top;\n",
       "    }\n",
       "\n",
       "    .dataframe thead th {\n",
       "        text-align: right;\n",
       "    }\n",
       "</style>\n",
       "<table border=\"1\" class=\"dataframe\">\n",
       "  <thead>\n",
       "    <tr style=\"text-align: right;\">\n",
       "      <th></th>\n",
       "      <th>image_path</th>\n",
       "      <th>purpose</th>\n",
       "      <th>label</th>\n",
       "      <th>name</th>\n",
       "      <th>du</th>\n",
       "    </tr>\n",
       "  </thead>\n",
       "  <tbody>\n",
       "    <tr>\n",
       "      <th>0</th>\n",
       "      <td>/workspace/dataset/aff-wild/110-30-270x480/000...</td>\n",
       "      <td>Train</td>\n",
       "      <td>0</td>\n",
       "      <td>110-30-270x480</td>\n",
       "      <td>110-30-270x480_0</td>\n",
       "    </tr>\n",
       "    <tr>\n",
       "      <th>1</th>\n",
       "      <td>/workspace/dataset/aff-wild/110-30-270x480/000...</td>\n",
       "      <td>Train</td>\n",
       "      <td>0</td>\n",
       "      <td>110-30-270x480</td>\n",
       "      <td>110-30-270x480_0</td>\n",
       "    </tr>\n",
       "    <tr>\n",
       "      <th>2</th>\n",
       "      <td>/workspace/dataset/aff-wild/110-30-270x480/000...</td>\n",
       "      <td>Train</td>\n",
       "      <td>0</td>\n",
       "      <td>110-30-270x480</td>\n",
       "      <td>110-30-270x480_0</td>\n",
       "    </tr>\n",
       "    <tr>\n",
       "      <th>3</th>\n",
       "      <td>/workspace/dataset/aff-wild/110-30-270x480/000...</td>\n",
       "      <td>Train</td>\n",
       "      <td>0</td>\n",
       "      <td>110-30-270x480</td>\n",
       "      <td>110-30-270x480_0</td>\n",
       "    </tr>\n",
       "    <tr>\n",
       "      <th>4</th>\n",
       "      <td>/workspace/dataset/aff-wild/110-30-270x480/000...</td>\n",
       "      <td>Train</td>\n",
       "      <td>0</td>\n",
       "      <td>110-30-270x480</td>\n",
       "      <td>110-30-270x480_0</td>\n",
       "    </tr>\n",
       "    <tr>\n",
       "      <th>...</th>\n",
       "      <td>...</td>\n",
       "      <td>...</td>\n",
       "      <td>...</td>\n",
       "      <td>...</td>\n",
       "      <td>...</td>\n",
       "    </tr>\n",
       "    <tr>\n",
       "      <th>1089924</th>\n",
       "      <td>/workspace/dataset/aff-wild/112-30-640x360/059...</td>\n",
       "      <td>Train</td>\n",
       "      <td>0</td>\n",
       "      <td>112-30-640x360</td>\n",
       "      <td>112-30-640x360_0</td>\n",
       "    </tr>\n",
       "    <tr>\n",
       "      <th>1089925</th>\n",
       "      <td>/workspace/dataset/aff-wild/112-30-640x360/059...</td>\n",
       "      <td>Train</td>\n",
       "      <td>0</td>\n",
       "      <td>112-30-640x360</td>\n",
       "      <td>112-30-640x360_0</td>\n",
       "    </tr>\n",
       "    <tr>\n",
       "      <th>1089926</th>\n",
       "      <td>/workspace/dataset/aff-wild/112-30-640x360/060...</td>\n",
       "      <td>Train</td>\n",
       "      <td>0</td>\n",
       "      <td>112-30-640x360</td>\n",
       "      <td>112-30-640x360_0</td>\n",
       "    </tr>\n",
       "    <tr>\n",
       "      <th>1089927</th>\n",
       "      <td>/workspace/dataset/aff-wild/112-30-640x360/060...</td>\n",
       "      <td>Train</td>\n",
       "      <td>0</td>\n",
       "      <td>112-30-640x360</td>\n",
       "      <td>112-30-640x360_0</td>\n",
       "    </tr>\n",
       "    <tr>\n",
       "      <th>1089928</th>\n",
       "      <td>/workspace/dataset/aff-wild/112-30-640x360/060...</td>\n",
       "      <td>Train</td>\n",
       "      <td>0</td>\n",
       "      <td>112-30-640x360</td>\n",
       "      <td>112-30-640x360_0</td>\n",
       "    </tr>\n",
       "  </tbody>\n",
       "</table>\n",
       "<p>1089929 rows × 5 columns</p>\n",
       "</div>"
      ],
      "text/plain": [
       "                                                image_path purpose label  \\\n",
       "0        /workspace/dataset/aff-wild/110-30-270x480/000...   Train     0   \n",
       "1        /workspace/dataset/aff-wild/110-30-270x480/000...   Train     0   \n",
       "2        /workspace/dataset/aff-wild/110-30-270x480/000...   Train     0   \n",
       "3        /workspace/dataset/aff-wild/110-30-270x480/000...   Train     0   \n",
       "4        /workspace/dataset/aff-wild/110-30-270x480/000...   Train     0   \n",
       "...                                                    ...     ...   ...   \n",
       "1089924  /workspace/dataset/aff-wild/112-30-640x360/059...   Train     0   \n",
       "1089925  /workspace/dataset/aff-wild/112-30-640x360/059...   Train     0   \n",
       "1089926  /workspace/dataset/aff-wild/112-30-640x360/060...   Train     0   \n",
       "1089927  /workspace/dataset/aff-wild/112-30-640x360/060...   Train     0   \n",
       "1089928  /workspace/dataset/aff-wild/112-30-640x360/060...   Train     0   \n",
       "\n",
       "                   name                du  \n",
       "0        110-30-270x480  110-30-270x480_0  \n",
       "1        110-30-270x480  110-30-270x480_0  \n",
       "2        110-30-270x480  110-30-270x480_0  \n",
       "3        110-30-270x480  110-30-270x480_0  \n",
       "4        110-30-270x480  110-30-270x480_0  \n",
       "...                 ...               ...  \n",
       "1089924  112-30-640x360  112-30-640x360_0  \n",
       "1089925  112-30-640x360  112-30-640x360_0  \n",
       "1089926  112-30-640x360  112-30-640x360_0  \n",
       "1089927  112-30-640x360  112-30-640x360_0  \n",
       "1089928  112-30-640x360  112-30-640x360_0  \n",
       "\n",
       "[1089929 rows x 5 columns]"
      ]
     },
     "execution_count": 23,
     "metadata": {},
     "output_type": "execute_result"
    }
   ],
   "source": [
    "train"
   ]
  },
  {
   "cell_type": "code",
   "execution_count": 58,
   "metadata": {},
   "outputs": [],
   "source": [
    "label_counts = []\n",
    "for data in train.iterrows():\n",
    "    name = data[1]['name']\n",
    "    ct_label = num_train[num_train['name'] == name].label.values[0]\n",
    "    label_counts.append(ct_label)"
   ]
  },
  {
   "cell_type": "code",
   "execution_count": null,
   "metadata": {},
   "outputs": [],
   "source": []
  }
 ],
 "metadata": {
  "kernelspec": {
   "display_name": "Python 3",
   "language": "python",
   "name": "python3"
  },
  "language_info": {
   "codemirror_mode": {
    "name": "ipython",
    "version": 3
   },
   "file_extension": ".py",
   "mimetype": "text/x-python",
   "name": "python",
   "nbconvert_exporter": "python",
   "pygments_lexer": "ipython3",
   "version": "3.8.10"
  },
  "orig_nbformat": 4
 },
 "nbformat": 4,
 "nbformat_minor": 2
}
